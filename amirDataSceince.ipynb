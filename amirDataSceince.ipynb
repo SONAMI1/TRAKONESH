{
 "cells": [
  {
   "cell_type": "markdown",
   "id": "c69b8d60",
   "metadata": {},
   "source": [
    "## Neccesary Libs"
   ]
  },
  {
   "cell_type": "code",
   "execution_count": 2,
   "id": "a48347d9",
   "metadata": {},
   "outputs": [],
   "source": [
    "import numpy as np #برای کار با داده های عددی\n",
    "import pandas as pd #برای پردازش و تحلیل داده\n",
    "import seaborn as sns #برای رسم نمودار\n",
    "from sklearn.model_selection import train_test_split #برای تقسیم داده به دوقسمت\n",
    "from sklearn.ensemble import RandomForestClassifier #مدل جنگل تصادفی\n",
    "from sklearn.metrics import classification_report #توابع ارزیابی مدل"
   ]
  },
  {
   "cell_type": "code",
   "execution_count": 3,
   "id": "6741cb02",
   "metadata": {},
   "outputs": [],
   "source": [
    "# خواندن داده‌های فایل اول\n",
    "df1 = pd.read_csv('H:\\\\ai\\\\project\\\\dataset1.csv')\n",
    "\n",
    "# خواندن داده‌های فایل دوم\n",
    "df2 = pd.read_csv('H:\\\\ai\\\\project\\\\dataset2.csv')\n",
    "\n",
    "# خواندن داده‌های فایل سوم\n",
    "df3 = pd.read_csv('H:\\\\ai\\\\project\\\\dataset3.csv')\n",
    "\n",
    "# خواندن داده‌های فایل چهارم\n",
    "df4 = pd.read_csv('H:\\\\ai\\\\project\\\\dataset4.csv')\n",
    "\n",
    "\n",
    "# ترکیب داده‌های دو DataFrame\n",
    "combined_df = pd.concat([df1, df2,df3, df4])\n",
    "\n",
    "# ذخیره کردن داده‌های ترکیب شده به یک فایل جدید\n",
    "combined_df.to_csv('H:\\\\ai\\\\project\\\\dataset50.csv', index=False)\n"
   ]
  },
  {
   "cell_type": "markdown",
   "id": "1cbb2526",
   "metadata": {},
   "source": [
    "## Importing data & Checking it"
   ]
  },
  {
   "cell_type": "code",
   "execution_count": 4,
   "id": "c9eae129",
   "metadata": {},
   "outputs": [
    {
     "data": {
      "text/html": [
       "<div>\n",
       "<style scoped>\n",
       "    .dataframe tbody tr th:only-of-type {\n",
       "        vertical-align: middle;\n",
       "    }\n",
       "\n",
       "    .dataframe tbody tr th {\n",
       "        vertical-align: top;\n",
       "    }\n",
       "\n",
       "    .dataframe thead th {\n",
       "        text-align: right;\n",
       "    }\n",
       "</style>\n",
       "<table border=\"1\" class=\"dataframe\">\n",
       "  <thead>\n",
       "    <tr style=\"text-align: right;\">\n",
       "      <th></th>\n",
       "      <th>step</th>\n",
       "      <th>type</th>\n",
       "      <th>amount</th>\n",
       "      <th>nameOrig</th>\n",
       "      <th>oldbalanceOrg</th>\n",
       "      <th>newbalanceOrig</th>\n",
       "      <th>nameDest</th>\n",
       "      <th>oldbalanceDest</th>\n",
       "      <th>newbalanceDest</th>\n",
       "      <th>isFraud</th>\n",
       "      <th>isFlaggedFraud</th>\n",
       "    </tr>\n",
       "  </thead>\n",
       "  <tbody>\n",
       "    <tr>\n",
       "      <th>0</th>\n",
       "      <td>1</td>\n",
       "      <td>PAYMENT</td>\n",
       "      <td>9839.64</td>\n",
       "      <td>C1231006815</td>\n",
       "      <td>170136.0</td>\n",
       "      <td>160296.36</td>\n",
       "      <td>M1979787155</td>\n",
       "      <td>0.00</td>\n",
       "      <td>0.00</td>\n",
       "      <td>0</td>\n",
       "      <td>0</td>\n",
       "    </tr>\n",
       "    <tr>\n",
       "      <th>1</th>\n",
       "      <td>1</td>\n",
       "      <td>PAYMENT</td>\n",
       "      <td>1864.28</td>\n",
       "      <td>C1666544295</td>\n",
       "      <td>21249.0</td>\n",
       "      <td>19384.72</td>\n",
       "      <td>M2044282225</td>\n",
       "      <td>0.00</td>\n",
       "      <td>0.00</td>\n",
       "      <td>0</td>\n",
       "      <td>0</td>\n",
       "    </tr>\n",
       "    <tr>\n",
       "      <th>2</th>\n",
       "      <td>1</td>\n",
       "      <td>TRANSFER</td>\n",
       "      <td>181.00</td>\n",
       "      <td>C1305486145</td>\n",
       "      <td>181.0</td>\n",
       "      <td>0.00</td>\n",
       "      <td>C553264065</td>\n",
       "      <td>0.00</td>\n",
       "      <td>0.00</td>\n",
       "      <td>1</td>\n",
       "      <td>0</td>\n",
       "    </tr>\n",
       "    <tr>\n",
       "      <th>3</th>\n",
       "      <td>1</td>\n",
       "      <td>CASH_OUT</td>\n",
       "      <td>181.00</td>\n",
       "      <td>C840083671</td>\n",
       "      <td>181.0</td>\n",
       "      <td>0.00</td>\n",
       "      <td>C38997010</td>\n",
       "      <td>21182.00</td>\n",
       "      <td>0.00</td>\n",
       "      <td>1</td>\n",
       "      <td>0</td>\n",
       "    </tr>\n",
       "    <tr>\n",
       "      <th>4</th>\n",
       "      <td>1</td>\n",
       "      <td>PAYMENT</td>\n",
       "      <td>11668.14</td>\n",
       "      <td>C2048537720</td>\n",
       "      <td>41554.0</td>\n",
       "      <td>29885.86</td>\n",
       "      <td>M1230701703</td>\n",
       "      <td>0.00</td>\n",
       "      <td>0.00</td>\n",
       "      <td>0</td>\n",
       "      <td>0</td>\n",
       "    </tr>\n",
       "    <tr>\n",
       "      <th>...</th>\n",
       "      <td>...</td>\n",
       "      <td>...</td>\n",
       "      <td>...</td>\n",
       "      <td>...</td>\n",
       "      <td>...</td>\n",
       "      <td>...</td>\n",
       "      <td>...</td>\n",
       "      <td>...</td>\n",
       "      <td>...</td>\n",
       "      <td>...</td>\n",
       "      <td>...</td>\n",
       "    </tr>\n",
       "    <tr>\n",
       "      <th>199995</th>\n",
       "      <td>13</td>\n",
       "      <td>CASH_IN</td>\n",
       "      <td>149024.27</td>\n",
       "      <td>C1446913085</td>\n",
       "      <td>8688.0</td>\n",
       "      <td>157712.27</td>\n",
       "      <td>C476402209</td>\n",
       "      <td>440028.59</td>\n",
       "      <td>321427.51</td>\n",
       "      <td>0</td>\n",
       "      <td>0</td>\n",
       "    </tr>\n",
       "    <tr>\n",
       "      <th>199996</th>\n",
       "      <td>13</td>\n",
       "      <td>PAYMENT</td>\n",
       "      <td>71076.01</td>\n",
       "      <td>C1421983410</td>\n",
       "      <td>50291.0</td>\n",
       "      <td>0.00</td>\n",
       "      <td>M855368711</td>\n",
       "      <td>0.00</td>\n",
       "      <td>0.00</td>\n",
       "      <td>0</td>\n",
       "      <td>0</td>\n",
       "    </tr>\n",
       "    <tr>\n",
       "      <th>199997</th>\n",
       "      <td>13</td>\n",
       "      <td>CASH_OUT</td>\n",
       "      <td>147125.05</td>\n",
       "      <td>C80624764</td>\n",
       "      <td>0.0</td>\n",
       "      <td>0.00</td>\n",
       "      <td>C747330421</td>\n",
       "      <td>1058502.64</td>\n",
       "      <td>1325544.47</td>\n",
       "      <td>0</td>\n",
       "      <td>0</td>\n",
       "    </tr>\n",
       "    <tr>\n",
       "      <th>199998</th>\n",
       "      <td>13</td>\n",
       "      <td>CASH_OUT</td>\n",
       "      <td>97529.67</td>\n",
       "      <td>C595001108</td>\n",
       "      <td>0.0</td>\n",
       "      <td>0.00</td>\n",
       "      <td>C575555170</td>\n",
       "      <td>1921846.97</td>\n",
       "      <td>2019376.64</td>\n",
       "      <td>0</td>\n",
       "      <td>0</td>\n",
       "    </tr>\n",
       "    <tr>\n",
       "      <th>199999</th>\n",
       "      <td>13</td>\n",
       "      <td>CASH_OUT</td>\n",
       "      <td>211748.46</td>\n",
       "      <td>C2048647654</td>\n",
       "      <td>496279.0</td>\n",
       "      <td>284530.54</td>\n",
       "      <td>C1091477477</td>\n",
       "      <td>0.00</td>\n",
       "      <td>211748.46</td>\n",
       "      <td>0</td>\n",
       "      <td>0</td>\n",
       "    </tr>\n",
       "  </tbody>\n",
       "</table>\n",
       "<p>200000 rows × 11 columns</p>\n",
       "</div>"
      ],
      "text/plain": [
       "        step      type     amount     nameOrig  oldbalanceOrg  newbalanceOrig  \\\n",
       "0          1   PAYMENT    9839.64  C1231006815       170136.0       160296.36   \n",
       "1          1   PAYMENT    1864.28  C1666544295        21249.0        19384.72   \n",
       "2          1  TRANSFER     181.00  C1305486145          181.0            0.00   \n",
       "3          1  CASH_OUT     181.00   C840083671          181.0            0.00   \n",
       "4          1   PAYMENT   11668.14  C2048537720        41554.0        29885.86   \n",
       "...      ...       ...        ...          ...            ...             ...   \n",
       "199995    13   CASH_IN  149024.27  C1446913085         8688.0       157712.27   \n",
       "199996    13   PAYMENT   71076.01  C1421983410        50291.0            0.00   \n",
       "199997    13  CASH_OUT  147125.05    C80624764            0.0            0.00   \n",
       "199998    13  CASH_OUT   97529.67   C595001108            0.0            0.00   \n",
       "199999    13  CASH_OUT  211748.46  C2048647654       496279.0       284530.54   \n",
       "\n",
       "           nameDest  oldbalanceDest  newbalanceDest  isFraud  isFlaggedFraud  \n",
       "0       M1979787155            0.00            0.00        0               0  \n",
       "1       M2044282225            0.00            0.00        0               0  \n",
       "2        C553264065            0.00            0.00        1               0  \n",
       "3         C38997010        21182.00            0.00        1               0  \n",
       "4       M1230701703            0.00            0.00        0               0  \n",
       "...             ...             ...             ...      ...             ...  \n",
       "199995   C476402209       440028.59       321427.51        0               0  \n",
       "199996   M855368711            0.00            0.00        0               0  \n",
       "199997   C747330421      1058502.64      1325544.47        0               0  \n",
       "199998   C575555170      1921846.97      2019376.64        0               0  \n",
       "199999  C1091477477            0.00       211748.46        0               0  \n",
       "\n",
       "[200000 rows x 11 columns]"
      ]
     },
     "execution_count": 4,
     "metadata": {},
     "output_type": "execute_result"
    }
   ],
   "source": [
    "#وارد کردن داده به برنامه\n",
    "data1 = pd.read_csv('H:\\\\ai\\\\project\\\\dataset.csv', low_memory=False)\n",
    "data1.head(200000)"
   ]
  },
  {
   "cell_type": "code",
   "execution_count": 5,
   "id": "8d6fa9bc",
   "metadata": {},
   "outputs": [
    {
     "name": "stdout",
     "output_type": "stream",
     "text": [
      "<class 'pandas.core.frame.DataFrame'>\n",
      "RangeIndex: 200000 entries, 0 to 199999\n",
      "Data columns (total 11 columns):\n",
      " #   Column          Non-Null Count   Dtype  \n",
      "---  ------          --------------   -----  \n",
      " 0   step            200000 non-null  int64  \n",
      " 1   type            200000 non-null  object \n",
      " 2   amount          200000 non-null  float64\n",
      " 3   nameOrig        200000 non-null  object \n",
      " 4   oldbalanceOrg   200000 non-null  float64\n",
      " 5   newbalanceOrig  200000 non-null  float64\n",
      " 6   nameDest        200000 non-null  object \n",
      " 7   oldbalanceDest  200000 non-null  float64\n",
      " 8   newbalanceDest  200000 non-null  float64\n",
      " 9   isFraud         200000 non-null  int64  \n",
      " 10  isFlaggedFraud  200000 non-null  int64  \n",
      "dtypes: float64(5), int64(3), object(3)\n",
      "memory usage: 16.8+ MB\n"
     ]
    }
   ],
   "source": [
    "# تعداد مقادیر هر ستون و نوع مقادیر\n",
    "data1.info()"
   ]
  },
  {
   "cell_type": "code",
   "execution_count": 6,
   "id": "b96c908d",
   "metadata": {},
   "outputs": [],
   "source": [
    "# step -> روز تراکنش\n",
    "# type -> نوع تراکنش\n",
    "# amount -> مقدار تراکنش\n",
    "# nameOrig -> نام حساب مبدا\n",
    "# oldbalanceOrg -> موجودی حساب مبدا قبل تراکنش\n",
    "# newbalanceOrig -> موجودی حساب مبدا بعد تراکنش\n",
    "# nameDest -> نام حساب مقصد        \n",
    "# oldbalanceDest -> موجودی حساب مقصد قبل تراکنش\n",
    "# newbalanceDest -> موجودی حساب مقصد بعد تراکنش\n",
    "# isFraud -> تقلبی بودن یا نبودن تراکنش"
   ]
  },
  {
   "cell_type": "code",
   "execution_count": 7,
   "id": "944dcfed",
   "metadata": {},
   "outputs": [
    {
     "data": {
      "text/plain": [
       "step              0\n",
       "type              0\n",
       "amount            0\n",
       "nameOrig          0\n",
       "oldbalanceOrg     0\n",
       "newbalanceOrig    0\n",
       "nameDest          0\n",
       "oldbalanceDest    0\n",
       "newbalanceDest    0\n",
       "isFraud           0\n",
       "isFlaggedFraud    0\n",
       "dtype: int64"
      ]
     },
     "execution_count": 7,
     "metadata": {},
     "output_type": "execute_result"
    }
   ],
   "source": [
    "# بررسی مقادیر خالی(MissingValues)\n",
    "data1.isnull().sum()"
   ]
  },
  {
   "cell_type": "markdown",
   "id": "2466a166",
   "metadata": {},
   "source": [
    "## Data Analysis"
   ]
  },
  {
   "cell_type": "code",
   "execution_count": 8,
   "id": "d6dd840f",
   "metadata": {},
   "outputs": [
    {
     "data": {
      "text/plain": [
       "type\n",
       "CASH_IN     7.531084e+09\n",
       "CASH_OUT    1.347760e+10\n",
       "DEBIT       1.514278e+07\n",
       "PAYMENT     8.844203e+08\n",
       "TRANSFER    1.425399e+10\n",
       "Name: amount, dtype: float64"
      ]
     },
     "execution_count": 8,
     "metadata": {},
     "output_type": "execute_result"
    }
   ],
   "source": [
    "# بررسی مقدارکل پول های ثبت شده توسط هر نوع از تراکنش\n",
    "data1.groupby('type').sum(numeric_only=True)['amount']"
   ]
  },
  {
   "cell_type": "code",
   "execution_count": 9,
   "id": "8c49d6bd",
   "metadata": {},
   "outputs": [
    {
     "data": {
      "text/plain": [
       "<Axes: xlabel='oldbalanceOrg', ylabel='newbalanceOrig'>"
      ]
     },
     "execution_count": 9,
     "metadata": {},
     "output_type": "execute_result"
    },
    {
     "data": {
      "image/png": "[encoded data removed]",
      "text/plain": [
       "<Figure size 640x480 with 1 Axes>"
      ]
     },
     "metadata": {},
     "output_type": "display_data"
    }
   ],
   "source": [
    "# بررسی ارتباط موجودی حساب مبدا قبل و بعد از تراکنش با بررسی تقلبی بودن یا نبودن آنها\n",
    "sns.scatterplot(x='oldbalanceOrg', y='newbalanceOrig', data=data1, hue='isFraud')"
   ]
  },
  {
   "cell_type": "code",
   "execution_count": 10,
   "id": "009a7b27",
   "metadata": {},
   "outputs": [
    {
     "data": {
      "text/html": [
       "<div>\n",
       "<style scoped>\n",
       "    .dataframe tbody tr th:only-of-type {\n",
       "        vertical-align: middle;\n",
       "    }\n",
       "\n",
       "    .dataframe tbody tr th {\n",
       "        vertical-align: top;\n",
       "    }\n",
       "\n",
       "    .dataframe thead th {\n",
       "        text-align: right;\n",
       "    }\n",
       "</style>\n",
       "<table border=\"1\" class=\"dataframe\">\n",
       "  <thead>\n",
       "    <tr style=\"text-align: right;\">\n",
       "      <th></th>\n",
       "      <th>amount</th>\n",
       "      <th>oldbalanceOrg</th>\n",
       "      <th>newbalanceOrig</th>\n",
       "      <th>oldbalanceDest</th>\n",
       "      <th>newbalanceDest</th>\n",
       "    </tr>\n",
       "    <tr>\n",
       "      <th>isFraud</th>\n",
       "      <th></th>\n",
       "      <th></th>\n",
       "      <th></th>\n",
       "      <th></th>\n",
       "      <th></th>\n",
       "    </tr>\n",
       "  </thead>\n",
       "  <tbody>\n",
       "    <tr>\n",
       "      <th>0</th>\n",
       "      <td>180476.435230</td>\n",
       "      <td>882375.600788</td>\n",
       "      <td>900833.917421</td>\n",
       "      <td>941695.377654</td>\n",
       "      <td>1.192262e+06</td>\n",
       "    </tr>\n",
       "    <tr>\n",
       "      <th>1</th>\n",
       "      <td>635893.197211</td>\n",
       "      <td>628785.862925</td>\n",
       "      <td>22947.864694</td>\n",
       "      <td>220435.975782</td>\n",
       "      <td>6.866950e+05</td>\n",
       "    </tr>\n",
       "  </tbody>\n",
       "</table>\n",
       "</div>"
      ],
      "text/plain": [
       "                amount  oldbalanceOrg  newbalanceOrig  oldbalanceDest  \\\n",
       "isFraud                                                                 \n",
       "0        180476.435230  882375.600788   900833.917421   941695.377654   \n",
       "1        635893.197211  628785.862925    22947.864694   220435.975782   \n",
       "\n",
       "         newbalanceDest  \n",
       "isFraud                  \n",
       "0          1.192262e+06  \n",
       "1          6.866950e+05  "
      ]
     },
     "execution_count": 10,
     "metadata": {},
     "output_type": "execute_result"
    }
   ],
   "source": [
    "# میانگین مقادیر برای دو گروه تراکتش های درست و تقلبی\n",
    "data1.groupby('isFraud').mean(numeric_only=True)[['amount','oldbalanceOrg','newbalanceOrig','oldbalanceDest','newbalanceDest']]"
   ]
  },
  {
   "cell_type": "code",
   "execution_count": 11,
   "id": "bb4a0d2a",
   "metadata": {},
   "outputs": [
    {
     "data": {
      "text/plain": [
       "type\n",
       "PAYMENT     73427\n",
       "CASH_OUT    66488\n",
       "CASH_IN     41579\n",
       "TRANSFER    16836\n",
       "DEBIT        1670\n",
       "Name: count, dtype: int64"
      ]
     },
     "execution_count": 11,
     "metadata": {},
     "output_type": "execute_result"
    }
   ],
   "source": [
    "# تعداد کل تراکنش های هر گروه از تراکنش ها\n",
    "typ = data1['type'].value_counts()\n",
    "typ"
   ]
  },
  {
   "cell_type": "code",
   "execution_count": 12,
   "id": "0c8de732",
   "metadata": {},
   "outputs": [
    {
     "data": {
      "text/plain": [
       "<Axes: xlabel='type'>"
      ]
     },
     "execution_count": 12,
     "metadata": {},
     "output_type": "execute_result"
    },
    {
     "data": {
      "image/png": "[encoded data removed]",
      "text/plain": [
       "<Figure size 640x480 with 1 Axes>"
      ]
     },
     "metadata": {},
     "output_type": "display_data"
    }
   ],
   "source": [
    "# رسم مقادیر سلول قبل روی نمودار\n",
    "sns.barplot(x=typ.index, y=typ.values)"
   ]
  },
  {
   "cell_type": "code",
   "execution_count": 13,
   "id": "83b49f38",
   "metadata": {},
   "outputs": [
    {
     "data": {
      "text/plain": [
       "isFraud           1.000000\n",
       "amount            0.037494\n",
       "oldbalanceOrg    -0.002484\n",
       "newbalanceDest   -0.005160\n",
       "oldbalanceDest   -0.008237\n",
       "newbalanceOrig   -0.008486\n",
       "step             -0.039102\n",
       "isFlaggedFraud         NaN\n",
       "Name: isFraud, dtype: float64"
      ]
     },
     "execution_count": 13,
     "metadata": {},
     "output_type": "execute_result"
    }
   ],
   "source": [
    "# بررسی ارتباط آماری هر ویژگی داده با تقلبی بودن یا نبودنش\n",
    "correlation = data1.corr(numeric_only=True)\n",
    "correlation['isFraud'].sort_values(ascending=False)"
   ]
  },
  {
   "cell_type": "markdown",
   "id": "4345dc1e",
   "metadata": {},
   "source": [
    "## Preprocessing data"
   ]
  },
  {
   "cell_type": "code",
   "execution_count": 14,
   "id": "5e06c00e",
   "metadata": {},
   "outputs": [
    {
     "data": {
      "text/html": [
       "<div>\n",
       "<style scoped>\n",
       "    .dataframe tbody tr th:only-of-type {\n",
       "        vertical-align: middle;\n",
       "    }\n",
       "\n",
       "    .dataframe tbody tr th {\n",
       "        vertical-align: top;\n",
       "    }\n",
       "\n",
       "    .dataframe thead th {\n",
       "        text-align: right;\n",
       "    }\n",
       "</style>\n",
       "<table border=\"1\" class=\"dataframe\">\n",
       "  <thead>\n",
       "    <tr style=\"text-align: right;\">\n",
       "      <th></th>\n",
       "      <th>step</th>\n",
       "      <th>type</th>\n",
       "      <th>amount</th>\n",
       "      <th>nameOrig</th>\n",
       "      <th>oldbalanceOrg</th>\n",
       "      <th>newbalanceOrig</th>\n",
       "      <th>nameDest</th>\n",
       "      <th>oldbalanceDest</th>\n",
       "      <th>newbalanceDest</th>\n",
       "      <th>isFraud</th>\n",
       "      <th>isFlaggedFraud</th>\n",
       "    </tr>\n",
       "  </thead>\n",
       "  <tbody>\n",
       "    <tr>\n",
       "      <th>0</th>\n",
       "      <td>1</td>\n",
       "      <td>1</td>\n",
       "      <td>9839.64</td>\n",
       "      <td>C1231006815</td>\n",
       "      <td>170136.0</td>\n",
       "      <td>160296.36</td>\n",
       "      <td>M1979787155</td>\n",
       "      <td>0.0</td>\n",
       "      <td>0.0</td>\n",
       "      <td>0</td>\n",
       "      <td>0</td>\n",
       "    </tr>\n",
       "    <tr>\n",
       "      <th>1</th>\n",
       "      <td>1</td>\n",
       "      <td>1</td>\n",
       "      <td>1864.28</td>\n",
       "      <td>C1666544295</td>\n",
       "      <td>21249.0</td>\n",
       "      <td>19384.72</td>\n",
       "      <td>M2044282225</td>\n",
       "      <td>0.0</td>\n",
       "      <td>0.0</td>\n",
       "      <td>0</td>\n",
       "      <td>0</td>\n",
       "    </tr>\n",
       "    <tr>\n",
       "      <th>2</th>\n",
       "      <td>1</td>\n",
       "      <td>4</td>\n",
       "      <td>181.00</td>\n",
       "      <td>C1305486145</td>\n",
       "      <td>181.0</td>\n",
       "      <td>0.00</td>\n",
       "      <td>C553264065</td>\n",
       "      <td>0.0</td>\n",
       "      <td>0.0</td>\n",
       "      <td>1</td>\n",
       "      <td>0</td>\n",
       "    </tr>\n",
       "    <tr>\n",
       "      <th>3</th>\n",
       "      <td>1</td>\n",
       "      <td>2</td>\n",
       "      <td>181.00</td>\n",
       "      <td>C840083671</td>\n",
       "      <td>181.0</td>\n",
       "      <td>0.00</td>\n",
       "      <td>C38997010</td>\n",
       "      <td>21182.0</td>\n",
       "      <td>0.0</td>\n",
       "      <td>1</td>\n",
       "      <td>0</td>\n",
       "    </tr>\n",
       "    <tr>\n",
       "      <th>4</th>\n",
       "      <td>1</td>\n",
       "      <td>1</td>\n",
       "      <td>11668.14</td>\n",
       "      <td>C2048537720</td>\n",
       "      <td>41554.0</td>\n",
       "      <td>29885.86</td>\n",
       "      <td>M1230701703</td>\n",
       "      <td>0.0</td>\n",
       "      <td>0.0</td>\n",
       "      <td>0</td>\n",
       "      <td>0</td>\n",
       "    </tr>\n",
       "  </tbody>\n",
       "</table>\n",
       "</div>"
      ],
      "text/plain": [
       "   step  type    amount     nameOrig  oldbalanceOrg  newbalanceOrig  \\\n",
       "0     1     1   9839.64  C1231006815       170136.0       160296.36   \n",
       "1     1     1   1864.28  C1666544295        21249.0        19384.72   \n",
       "2     1     4    181.00  C1305486145          181.0            0.00   \n",
       "3     1     2    181.00   C840083671          181.0            0.00   \n",
       "4     1     1  11668.14  C2048537720        41554.0        29885.86   \n",
       "\n",
       "      nameDest  oldbalanceDest  newbalanceDest  isFraud  isFlaggedFraud  \n",
       "0  M1979787155             0.0             0.0        0               0  \n",
       "1  M2044282225             0.0             0.0        0               0  \n",
       "2   C553264065             0.0             0.0        1               0  \n",
       "3    C38997010         21182.0             0.0        1               0  \n",
       "4  M1230701703             0.0             0.0        0               0  "
      ]
     },
     "execution_count": 14,
     "metadata": {},
     "output_type": "execute_result"
    }
   ],
   "source": [
    "# تبدیل مقادیر متنی نوع تراکنش به مقادیر عددی\n",
    "data1['type'] = data1['type'].map({'PAYMENT':1, 'CASH_OUT':2, 'CASH_IN':3, 'TRANSFER':4, 'DEBIT':5})\n",
    "data1.head()"
   ]
  },
  {
   "cell_type": "code",
   "execution_count": 15,
   "id": "327966f7",
   "metadata": {},
   "outputs": [],
   "source": [
    "X = data1[['type', 'amount', 'oldbalanceOrg', 'newbalanceOrig']]\n",
    "y = data1['isFraud']"
   ]
  },
  {
   "cell_type": "code",
   "execution_count": 16,
   "id": "fc0fa3f4",
   "metadata": {},
   "outputs": [],
   "source": [
    "# جدا کردن داده به دو قسمت آموزشی و تستی با نسبت 20 درصد\n",
    "X_train, X_test, y_train, y_test = train_test_split(X, y, test_size=0.2, random_state=69)"
   ]
  },
  {
   "cell_type": "markdown",
   "id": "50683ea8",
   "metadata": {},
   "source": [
    "## Training Model"
   ]
  },
  {
   "cell_type": "code",
   "execution_count": 17,
   "id": "ae52bfbe",
   "metadata": {},
   "outputs": [
    {
     "data": {
      "text/html": [
       "<style>#sk-container-id-1 {color: black;}#sk-container-id-1 pre{padding: 0;}#sk-container-id-1 div.sk-toggleable {background-color: white;}#sk-container-id-1 label.sk-toggleable__label {cursor: pointer;display: block;width: 100%;margin-bottom: 0;padding: 0.3em;box-sizing: border-box;text-align: center;}#sk-container-id-1 label.sk-toggleable__label-arrow:before {content: \"▸\";float: left;margin-right: 0.25em;color: #696969;}#sk-container-id-1 label.sk-toggleable__label-arrow:hover:before {color: black;}#sk-container-id-1 div.sk-estimator:hover label.sk-toggleable__label-arrow:before {color: black;}#sk-container-id-1 div.sk-toggleable__content {max-height: 0;max-width: 0;overflow: hidden;text-align: left;background-color: #f0f8ff;}#sk-container-id-1 div.sk-toggleable__content pre {margin: 0.2em;color: black;border-radius: 0.25em;background-color: #f0f8ff;}#sk-container-id-1 input.sk-toggleable__control:checked~div.sk-toggleable__content {max-height: 200px;max-width: 100%;overflow: auto;}#sk-container-id-1 input.sk-toggleable__control:checked~label.sk-toggleable__label-arrow:before {content: \"▾\";}#sk-container-id-1 div.sk-estimator input.sk-toggleable__control:checked~label.sk-toggleable__label {background-color: #d4ebff;}#sk-container-id-1 div.sk-label input.sk-toggleable__control:checked~label.sk-toggleable__label {background-color: #d4ebff;}#sk-container-id-1 input.sk-hidden--visually {border: 0;clip: rect(1px 1px 1px 1px);clip: rect(1px, 1px, 1px, 1px);height: 1px;margin: -1px;overflow: hidden;padding: 0;position: absolute;width: 1px;}#sk-container-id-1 div.sk-estimator {font-family: monospace;background-color: #f0f8ff;border: 1px dotted black;border-radius: 0.25em;box-sizing: border-box;margin-bottom: 0.5em;}#sk-container-id-1 div.sk-estimator:hover {background-color: #d4ebff;}#sk-container-id-1 div.sk-parallel-item::after {content: \"\";width: 100%;border-bottom: 1px solid gray;flex-grow: 1;}#sk-container-id-1 div.sk-label:hover label.sk-toggleable__label {background-color: #d4ebff;}#sk-container-id-1 div.sk-serial::before {content: \"\";position: absolute;border-left: 1px solid gray;box-sizing: border-box;top: 0;bottom: 0;left: 50%;z-index: 0;}#sk-container-id-1 div.sk-serial {display: flex;flex-direction: column;align-items: center;background-color: white;padding-right: 0.2em;padding-left: 0.2em;position: relative;}#sk-container-id-1 div.sk-item {position: relative;z-index: 1;}#sk-container-id-1 div.sk-parallel {display: flex;align-items: stretch;justify-content: center;background-color: white;position: relative;}#sk-container-id-1 div.sk-item::before, #sk-container-id-1 div.sk-parallel-item::before {content: \"\";position: absolute;border-left: 1px solid gray;box-sizing: border-box;top: 0;bottom: 0;left: 50%;z-index: -1;}#sk-container-id-1 div.sk-parallel-item {display: flex;flex-direction: column;z-index: 1;position: relative;background-color: white;}#sk-container-id-1 div.sk-parallel-item:first-child::after {align-self: flex-end;width: 50%;}#sk-container-id-1 div.sk-parallel-item:last-child::after {align-self: flex-start;width: 50%;}#sk-container-id-1 div.sk-parallel-item:only-child::after {width: 0;}#sk-container-id-1 div.sk-dashed-wrapped {border: 1px dashed gray;margin: 0 0.4em 0.5em 0.4em;box-sizing: border-box;padding-bottom: 0.4em;background-color: white;}#sk-container-id-1 div.sk-label label {font-family: monospace;font-weight: bold;display: inline-block;line-height: 1.2em;}#sk-container-id-1 div.sk-label-container {text-align: center;}#sk-container-id-1 div.sk-container {/* jupyter's `normalize.less` sets `[hidden] { display: none; }` but bootstrap.min.css set `[hidden] { display: none !important; }` so we also need the `!important` here to be able to override the default hidden behavior on the sphinx rendered scikit-learn.org. See: https://github.com/scikit-learn/scikit-learn/issues/21755 */display: inline-block !important;position: relative;}#sk-container-id-1 div.sk-text-repr-fallback {display: none;}</style><div id=\"sk-container-id-1\" class=\"sk-top-container\"><div class=\"sk-text-repr-fallback\"><pre>RandomForestClassifier(random_state=69)</pre><b>In a Jupyter environment, please rerun this cell to show the HTML representation or trust the notebook. <br />On GitHub, the HTML representation is unable to render, please try loading this page with nbviewer.org.</b></div><div class=\"sk-container\" hidden><div class=\"sk-item\"><div class=\"sk-estimator sk-toggleable\"><input class=\"sk-toggleable__control sk-hidden--visually\" id=\"sk-estimator-id-1\" type=\"checkbox\" checked><label for=\"sk-estimator-id-1\" class=\"sk-toggleable__label sk-toggleable__label-arrow\">RandomForestClassifier</label><div class=\"sk-toggleable__content\"><pre>RandomForestClassifier(random_state=69)</pre></div></div></div></div></div>"
      ],
      "text/plain": [
       "RandomForestClassifier(random_state=69)"
      ]
     },
     "execution_count": 17,
     "metadata": {},
     "output_type": "execute_result"
    }
   ],
   "source": [
    "# ایجاد مدل جنگل تصادفی و آموزش آن با 100 درخت\n",
    "model = RandomForestClassifier(n_estimators=100, random_state=69)\n",
    "model.fit(X_train, y_train)"
   ]
  },
  {
   "cell_type": "markdown",
   "id": "f1c31283",
   "metadata": {},
   "source": [
    "## Evaluating Model"
   ]
  },
  {
   "cell_type": "code",
   "execution_count": 18,
   "id": "08f3b409",
   "metadata": {},
   "outputs": [],
   "source": [
    "y_pred = model.predict(X_test)"
   ]
  },
  {
   "cell_type": "code",
   "execution_count": 19,
   "id": "6cfd01ed",
   "metadata": {},
   "outputs": [
    {
     "data": {
      "text/plain": [
       "0.99935"
      ]
     },
     "execution_count": 19,
     "metadata": {},
     "output_type": "execute_result"
    }
   ],
   "source": [
    "# ارزیابی درصد جواب های درست مدل برای داده تستی\n",
    "model.score(X_test, y_test)"
   ]
  },
  {
   "cell_type": "code",
   "execution_count": 20,
   "id": "2d5e09d0",
   "metadata": {},
   "outputs": [
    {
     "name": "stdout",
     "output_type": "stream",
     "text": [
      "              precision    recall  f1-score   support\n",
      "\n",
      "           0       1.00      1.00      1.00     39968\n",
      "           1       0.65      0.41      0.50        32\n",
      "\n",
      "    accuracy                           1.00     40000\n",
      "   macro avg       0.82      0.70      0.75     40000\n",
      "weighted avg       1.00      1.00      1.00     40000\n",
      "\n"
     ]
    }
   ],
   "source": [
    "# ارزیابی جامع عملکرد مدل\n",
    "print(classification_report(y_test, y_pred))"
   ]
  },
  {
   "cell_type": "code",
   "execution_count": 21,
   "id": "6034d369",
   "metadata": {},
   "outputs": [
    {
     "name": "stdout",
     "output_type": "stream",
     "text": [
      "type CASH_IN CASH_IN\n",
      "step 1.000000 0.022373\n",
      "\n",
      "amount 0.022373 1.000000\n",
      "oldbalanceOrg -0.010058 -0.002762\n",
      "newbalanceOrig 0.010299 -0.007861\n",
      "oldbalanceDest 0.027665 0.294137\n",
      "newbalanceDest 0.025888 0.459304\n",
      "isFraud 0.031578 0.076688\n",
      "\n",
      "isFlaggedFraud 0.003277 0.012295\n",
      "\n"
     ]
    }
   ],
   "source": [
    "import cv2\n",
    "import pytesseract\n",
    "pytesseract.pytesseract.tesseract_cmd = r'C:\\Program Files\\Tesseract-OCR\\tesseract.exe'\n",
    "\n",
    "# تشخیص متن از عکس\n",
    "def image_to_text(image_path):\n",
    "    # خواندن عکس\n",
    "    image = cv2.imread(image_path)\n",
    "\n",
    "    # تبدیل تصویر به متن با استفاده از Tesseract\n",
    "    text = pytesseract.image_to_string(image, lang='eng')\n",
    "\n",
    "    return text\n",
    "\n",
    "# مسیر فایل تصویر خود را وارد کنید\n",
    "image_path = \"C:\\\\Users\\\\asan\\\\Desktop\\\\23.png\"\n",
    "\n",
    "# تبدیل عکس به متن\n",
    "p = image_to_text(image_path)\n",
    "\n",
    "print(p)\n"
   ]
  },
  {
   "cell_type": "markdown",
   "id": "fd2e0e87",
   "metadata": {},
   "source": [
    "'PAYMENT':1, 'CASH_OUT':2, 'CASH_IN':3, 'TRANSFER':4, 'DEBIT':5"
   ]
  },
  {
   "cell_type": "code",
   "execution_count": 22,
   "id": "2e9313ad",
   "metadata": {},
   "outputs": [],
   "source": [
    "sentence =p\n",
    "def replace_words(sentence, old_word, new_word):\n",
    "    new_sentence = sentence.replace(old_word, new_word)\n",
    "    return new_sentence\n",
    "\n",
    "\n",
    "old_word = \"PAYMENT\"\n",
    "new_word =\"1\"\n",
    "\n",
    "\n",
    "u = replace_words(sentence, old_word, new_word)\n"
   ]
  },
  {
   "cell_type": "code",
   "execution_count": 23,
   "id": "4cf4187e",
   "metadata": {},
   "outputs": [],
   "source": [
    "sentence =u\n",
    "def replace_words(sentence, old_word, new_word):\n",
    "    new_sentence = sentence.replace(old_word, new_word)\n",
    "    return new_sentence\n",
    "\n",
    "old_word = \"CASH_OUT\"\n",
    "new_word = \"2\"\n",
    "\n",
    "o = replace_words(sentence, old_word, new_word)\n"
   ]
  },
  {
   "cell_type": "code",
   "execution_count": null,
   "id": "7cae2c24",
   "metadata": {},
   "outputs": [],
   "source": []
  },
  {
   "cell_type": "code",
   "execution_count": 24,
   "id": "ad83a05a",
   "metadata": {},
   "outputs": [
    {
     "name": "stdout",
     "output_type": "stream",
     "text": [
      "type 3 3\n",
      "step 1.000000 0.022373\n",
      "\n",
      "amount 0.022373 1.000000\n",
      "oldbalanceOrg -0.010058 -0.002762\n",
      "newbalanceOrig 0.010299 -0.007861\n",
      "oldbalanceDest 0.027665 0.294137\n",
      "newbalanceDest 0.025888 0.459304\n",
      "isFraud 0.031578 0.076688\n",
      "\n",
      "isFlaggedFraud 0.003277 0.012295\n",
      "\n"
     ]
    }
   ],
   "source": [
    "sentence =o\n",
    "def replace_words(sentence, old_word, new_word):\n",
    "    new_sentence = sentence.replace(old_word, new_word)\n",
    "    \n",
    "    return new_sentence\n",
    "\n",
    "\n",
    "\n",
    "old_word =\"CASH_IN\"\n",
    "new_word = \"3\"\n",
    "\n",
    "\n",
    "k = replace_words(sentence, old_word, new_word)\n",
    "print(k)"
   ]
  },
  {
   "cell_type": "code",
   "execution_count": 25,
   "id": "b7841ec1",
   "metadata": {},
   "outputs": [
    {
     "name": "stdout",
     "output_type": "stream",
     "text": [
      "type 3 3\n",
      "step 1.000000 0.022373\n",
      "\n",
      "amount 0.022373 1.000000\n",
      "oldbalanceOrg -0.010058 -0.002762\n",
      "newbalanceOrig 0.010299 -0.007861\n",
      "oldbalanceDest 0.027665 0.294137\n",
      "newbalanceDest 0.025888 0.459304\n",
      "isFraud 0.031578 0.076688\n",
      "\n",
      "isFlaggedFraud 0.003277 0.012295\n",
      "\n"
     ]
    }
   ],
   "source": [
    "sentence =k\n",
    "def replace_words(sentence, old_word, new_word):\n",
    "    new_sentence = sentence.replace(old_word, new_word)\n",
    "    return new_sentence\n",
    "\n",
    "\n",
    "old_word = \"TRANSFER\"\n",
    "new_word = \"4\"\n",
    "\n",
    "\n",
    "l = replace_words(sentence, old_word, new_word)\n",
    "print(l)"
   ]
  },
  {
   "cell_type": "code",
   "execution_count": 26,
   "id": "8376211c",
   "metadata": {},
   "outputs": [
    {
     "name": "stdout",
     "output_type": "stream",
     "text": [
      "type 3 3\n",
      "step 1.000000 0.022373\n",
      "\n",
      "amount 0.022373 1.000000\n",
      "oldbalanceOrg -0.010058 -0.002762\n",
      "newbalanceOrig 0.010299 -0.007861\n",
      "oldbalanceDest 0.027665 0.294137\n",
      "newbalanceDest 0.025888 0.459304\n",
      "isFraud 0.031578 0.076688\n",
      "\n",
      "isFlaggedFraud 0.003277 0.012295\n",
      "\n"
     ]
    }
   ],
   "source": [
    "print(l)"
   ]
  },
  {
   "cell_type": "code",
   "execution_count": 27,
   "id": "c4736d40",
   "metadata": {},
   "outputs": [
    {
     "name": "stdout",
     "output_type": "stream",
     "text": [
      "تعداد اعداد متن: 18\n",
      "Number of words without numbers: 9\n"
     ]
    }
   ],
   "source": [
    "import re\n",
    "\n",
    "def count_numbers_in_sentence(sentence):\n",
    "    numbers = re.findall(r\"[-+]?\\d*\\.\\d+|[-+]?\\d+\", sentence)  # پیدا کردن تمام اعداد (صحیح و اعشاری) در جمله\n",
    "    return len(numbers)\n",
    "\n",
    "sentence = l\n",
    "count = count_numbers_in_sentence(sentence)\n",
    "print(\"تعداد اعداد متن:\", count)\n",
    "\n",
    "\n",
    "def count_words_without_numbers(sentence):\n",
    "    words = re.findall(r'\\b[a-zA-Z]+\\b', sentence)\n",
    "    return len(words)\n",
    "\n",
    "sentence = l\n",
    "word_count = count_words_without_numbers(sentence)\n",
    "print(f\"Number of words without numbers: {word_count}\")\n",
    "\n"
   ]
  },
  {
   "cell_type": "code",
   "execution_count": 43,
   "id": "0866ec01",
   "metadata": {},
   "outputs": [
    {
     "name": "stdout",
     "output_type": "stream",
     "text": [
      "3\n",
      "1.000000\n",
      "-0.002762\n",
      "-0.007861\n"
     ]
    }
   ],
   "source": [
    "z=1 #شماره ستون جهت نمایش#\n",
    "x=int (count/word_count)\n",
    "my_list = []\n",
    "for j in range(2): \n",
    "    \n",
    "\n",
    "    sentence =\" type\tamount\toldbalanceOrg\tnewbalanceOrig\t\"\n",
    "    words_list = sentence.split()\n",
    "    #print(words_list)\n",
    "    #print()\n",
    "    \n",
    "    for word in words_list:\n",
    "    \n",
    "        #print(word)\n",
    "        #print()\n",
    "\n",
    "        text = l\n",
    "        words = text.split()\n",
    "        #print(l)\n",
    "        for i in range(len(words)):\n",
    "            if words[i] == word:\n",
    "                if i < len(words) - 1:\n",
    "                    #print(words[i + 1])\n",
    "                \n",
    "\n",
    "\n",
    "                \n",
    "\n",
    "                \n",
    "                    value = words[i+j+1]\n",
    " \n",
    "\n",
    "                    my_list.append(value)\n",
    "                \n",
    "                    break\n",
    "        else:\n",
    "                print(\"null\")\n",
    "#var1, var2, var3, var4= my_list       \n",
    "#print(var1)\n",
    "#print(var2)\n",
    "#print(var3)\n",
    "#print(var4)\n",
    "\n",
    "\n",
    "\n",
    "\n",
    "\n",
    "\n",
    "\n",
    "def chunk_list(lst, chunk_size):\n",
    "    return [lst[i:i + chunk_size] for i in range(0, len(lst), chunk_size)]\n",
    "\n",
    "# لیست اصلی\n",
    "my_list1 = my_list\n",
    "\n",
    "# تقسیم به چند لیست مجزا (به صورت نمونه به لیست‌های دوگانه)\n",
    "chunk_size = 4\n",
    "result = chunk_list(my_list1, chunk_size)\n",
    "\n",
    "#print(result)\n",
    "\n",
    "\n",
    "\n",
    "#x=int(input(\"nuber of soton\"))\n",
    "thislist = result\n",
    "\n",
    "\n",
    "\n",
    "\n",
    "var1, var2, var3, var4= thislist[z]\n",
    "print(var1)\n",
    "print(var2)\n",
    "print(var3)\n",
    "print(var4)\n",
    "\n"
   ]
  },
  {
   "cell_type": "code",
   "execution_count": 44,
   "id": "e02b63d6",
   "metadata": {},
   "outputs": [
    {
     "name": "stderr",
     "output_type": "stream",
     "text": [
      "c:\\Users\\asan\\AppData\\Local\\Programs\\Python\\Python311\\Lib\\site-packages\\sklearn\\base.py:465: UserWarning: X does not have valid feature names, but RandomForestClassifier was fitted with feature names\n",
      "  warnings.warn(\n"
     ]
    },
    {
     "data": {
      "text/plain": [
       "array([0], dtype=int64)"
      ]
     },
     "execution_count": 44,
     "metadata": {},
     "output_type": "execute_result"
    }
   ],
   "source": [
    "y_pred = model.predict([[var1,var2,var3,var4]])\n",
    "y_pred"
   ]
  },
  {
   "cell_type": "markdown",
   "id": "4f47598c",
   "metadata": {},
   "source": [
    "# Mahdi Mahmoudi\n",
    "\n"
   ]
  },
  {
   "cell_type": "code",
   "execution_count": null,
   "id": "010e21fa",
   "metadata": {},
   "outputs": [],
   "source": []
  }
 ],
 "metadata": {
  "kernelspec": {
   "display_name": "Python 3 (ipykernel)",
   "language": "python",
   "name": "python3"
  },
  "language_info": {
   "codemirror_mode": {
    "name": "ipython",
    "version": 3
   },
   "file_extension": ".py",
   "mimetype": "text/x-python",
   "name": "python",
   "nbconvert_exporter": "python",
   "pygments_lexer": "ipython3",
   "version": "3.11.1"
  }
 },
 "nbformat": 4,
 "nbformat_minor": 5
}
